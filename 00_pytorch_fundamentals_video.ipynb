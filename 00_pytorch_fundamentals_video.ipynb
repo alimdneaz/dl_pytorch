{
  "nbformat": 4,
  "nbformat_minor": 0,
  "metadata": {
    "colab": {
      "provenance": [],
      "gpuType": "T4"
    },
    "kernelspec": {
      "name": "python3",
      "display_name": "Python 3"
    },
    "language_info": {
      "name": "python"
    },
    "accelerator": "GPU"
  },
  "cells": [
    {
      "cell_type": "markdown",
      "source": [
        "## 00. PyTorch Fundamentals\n",
        "\n",
        "Resource notebook: https://www.learnpytorch.io/"
      ],
      "metadata": {
        "id": "pjPetvbwwZRI"
      }
    },
    {
      "cell_type": "code",
      "source": [
        "print(\"Hello Tensor\")"
      ],
      "metadata": {
        "colab": {
          "base_uri": "https://localhost:8080/"
        },
        "id": "DdT5i_xewQNB",
        "outputId": "d61966b9-d442-4374-a168-9a9abadd4f70"
      },
      "execution_count": null,
      "outputs": [
        {
          "output_type": "stream",
          "name": "stdout",
          "text": [
            "Hello Tensor\n"
          ]
        }
      ]
    },
    {
      "cell_type": "code",
      "execution_count": null,
      "metadata": {
        "colab": {
          "base_uri": "https://localhost:8080/"
        },
        "id": "yzoeOThvvvub",
        "outputId": "4fc30971-56b9-4a63-823f-da83b926e5c3"
      },
      "outputs": [
        {
          "output_type": "stream",
          "name": "stdout",
          "text": [
            "Tue Aug 27 21:32:14 2024       \n",
            "+---------------------------------------------------------------------------------------+\n",
            "| NVIDIA-SMI 535.104.05             Driver Version: 535.104.05   CUDA Version: 12.2     |\n",
            "|-----------------------------------------+----------------------+----------------------+\n",
            "| GPU  Name                 Persistence-M | Bus-Id        Disp.A | Volatile Uncorr. ECC |\n",
            "| Fan  Temp   Perf          Pwr:Usage/Cap |         Memory-Usage | GPU-Util  Compute M. |\n",
            "|                                         |                      |               MIG M. |\n",
            "|=========================================+======================+======================|\n",
            "|   0  Tesla T4                       Off | 00000000:00:04.0 Off |                    0 |\n",
            "| N/A   61C    P8              10W /  70W |      0MiB / 15360MiB |      0%      Default |\n",
            "|                                         |                      |                  N/A |\n",
            "+-----------------------------------------+----------------------+----------------------+\n",
            "                                                                                         \n",
            "+---------------------------------------------------------------------------------------+\n",
            "| Processes:                                                                            |\n",
            "|  GPU   GI   CI        PID   Type   Process name                            GPU Memory |\n",
            "|        ID   ID                                                             Usage      |\n",
            "|=======================================================================================|\n",
            "|  No running processes found                                                           |\n",
            "+---------------------------------------------------------------------------------------+\n"
          ]
        }
      ],
      "source": [
        "!nvidia-smi"
      ]
    },
    {
      "cell_type": "code",
      "source": [
        "import torch\n",
        "import pandas as pd\n",
        "import numpy as np\n",
        "import matplotlib.pyplot as plt\n",
        "print(torch.__version__)"
      ],
      "metadata": {
        "colab": {
          "base_uri": "https://localhost:8080/"
        },
        "id": "WCLwK5IvwKH6",
        "outputId": "588ea32b-6a89-4bc6-aea4-05ce2bfab706"
      },
      "execution_count": null,
      "outputs": [
        {
          "output_type": "stream",
          "name": "stdout",
          "text": [
            "2.4.0+cu121\n"
          ]
        }
      ]
    },
    {
      "cell_type": "markdown",
      "source": [
        "## Introduction to Tensors\n",
        "\n",
        "## Creating tensors\n",
        "PyTorch tensors are created using torch.tensor()"
      ],
      "metadata": {
        "id": "eNEYfzlwxJlP"
      }
    },
    {
      "cell_type": "code",
      "source": [
        "# scalar\n",
        "scalar = torch.tensor(7)\n",
        "scalar"
      ],
      "metadata": {
        "colab": {
          "base_uri": "https://localhost:8080/"
        },
        "id": "OrUyFav8w4i5",
        "outputId": "6ea4d566-3700-4415-8594-58f5714f0e63"
      },
      "execution_count": null,
      "outputs": [
        {
          "output_type": "execute_result",
          "data": {
            "text/plain": [
              "tensor(7)"
            ]
          },
          "metadata": {},
          "execution_count": 2
        }
      ]
    },
    {
      "cell_type": "code",
      "source": [
        "scalar.ndim"
      ],
      "metadata": {
        "colab": {
          "base_uri": "https://localhost:8080/"
        },
        "id": "Ugy8n4Y3xefI",
        "outputId": "674d9262-ee7d-4a1d-e9fd-a911a413679c"
      },
      "execution_count": null,
      "outputs": [
        {
          "output_type": "execute_result",
          "data": {
            "text/plain": [
              "0"
            ]
          },
          "metadata": {},
          "execution_count": 3
        }
      ]
    },
    {
      "cell_type": "code",
      "source": [
        "# Get tensor back as python int\n",
        "scalar.item()"
      ],
      "metadata": {
        "colab": {
          "base_uri": "https://localhost:8080/"
        },
        "id": "QtAy2ej9xv6f",
        "outputId": "8ccf5b01-8101-47a7-c55f-42509d0aae9b"
      },
      "execution_count": null,
      "outputs": [
        {
          "output_type": "execute_result",
          "data": {
            "text/plain": [
              "7"
            ]
          },
          "metadata": {},
          "execution_count": 5
        }
      ]
    },
    {
      "cell_type": "code",
      "source": [
        "# Vector\n",
        "vector = torch.tensor([7,7])\n",
        "vector"
      ],
      "metadata": {
        "colab": {
          "base_uri": "https://localhost:8080/"
        },
        "id": "_M-gNmxMyHVn",
        "outputId": "23dac048-f1ed-46aa-a99e-04f54913772b"
      },
      "execution_count": null,
      "outputs": [
        {
          "output_type": "execute_result",
          "data": {
            "text/plain": [
              "tensor([7, 7])"
            ]
          },
          "metadata": {},
          "execution_count": 6
        }
      ]
    },
    {
      "cell_type": "code",
      "source": [
        "vector.ndim"
      ],
      "metadata": {
        "colab": {
          "base_uri": "https://localhost:8080/"
        },
        "id": "SORx5N6qyQeQ",
        "outputId": "64fe4d77-a67c-4789-ad54-409297b8a6e0"
      },
      "execution_count": null,
      "outputs": [
        {
          "output_type": "execute_result",
          "data": {
            "text/plain": [
              "1"
            ]
          },
          "metadata": {},
          "execution_count": 7
        }
      ]
    },
    {
      "cell_type": "code",
      "source": [
        "vector.shape"
      ],
      "metadata": {
        "colab": {
          "base_uri": "https://localhost:8080/"
        },
        "id": "mFopE7uCyanf",
        "outputId": "12944fd6-78bf-4bed-e042-e5132f7e1bde"
      },
      "execution_count": null,
      "outputs": [
        {
          "output_type": "execute_result",
          "data": {
            "text/plain": [
              "torch.Size([2])"
            ]
          },
          "metadata": {},
          "execution_count": 8
        }
      ]
    },
    {
      "cell_type": "code",
      "source": [
        "# Matrix\n",
        "matrix = torch.tensor([[7,8],[6,7]])\n",
        "matrix"
      ],
      "metadata": {
        "colab": {
          "base_uri": "https://localhost:8080/"
        },
        "id": "7DBZsR1kyf_3",
        "outputId": "6d16d7c4-f1a7-4786-e263-81fcb874900b"
      },
      "execution_count": null,
      "outputs": [
        {
          "output_type": "execute_result",
          "data": {
            "text/plain": [
              "tensor([[7, 8],\n",
              "        [6, 7]])"
            ]
          },
          "metadata": {},
          "execution_count": 9
        }
      ]
    },
    {
      "cell_type": "code",
      "source": [
        "matrix.ndim"
      ],
      "metadata": {
        "colab": {
          "base_uri": "https://localhost:8080/"
        },
        "id": "uWVJr47Iytig",
        "outputId": "1b492bf6-9124-4786-d466-8c18c19eeab2"
      },
      "execution_count": null,
      "outputs": [
        {
          "output_type": "execute_result",
          "data": {
            "text/plain": [
              "2"
            ]
          },
          "metadata": {},
          "execution_count": 10
        }
      ]
    },
    {
      "cell_type": "code",
      "source": [
        "matrix[1]"
      ],
      "metadata": {
        "colab": {
          "base_uri": "https://localhost:8080/"
        },
        "id": "Hl8LJ7z9yvNf",
        "outputId": "4287fbe9-b3d5-4402-f186-748f6351b203"
      },
      "execution_count": null,
      "outputs": [
        {
          "output_type": "execute_result",
          "data": {
            "text/plain": [
              "tensor([6, 7])"
            ]
          },
          "metadata": {},
          "execution_count": 14
        }
      ]
    },
    {
      "cell_type": "code",
      "source": [
        "matrix.shape"
      ],
      "metadata": {
        "colab": {
          "base_uri": "https://localhost:8080/"
        },
        "id": "X9pdrKspy1o4",
        "outputId": "6be55f87-ec31-445d-add1-4b7fab06a416"
      },
      "execution_count": null,
      "outputs": [
        {
          "output_type": "execute_result",
          "data": {
            "text/plain": [
              "torch.Size([2, 2])"
            ]
          },
          "metadata": {},
          "execution_count": 15
        }
      ]
    },
    {
      "cell_type": "code",
      "source": [
        "type(matrix)"
      ],
      "metadata": {
        "colab": {
          "base_uri": "https://localhost:8080/"
        },
        "id": "CG43m0pjy9uX",
        "outputId": "9af7c027-56f8-4136-c252-c44f614daf9a"
      },
      "execution_count": null,
      "outputs": [
        {
          "output_type": "execute_result",
          "data": {
            "text/plain": [
              "torch.Tensor"
            ]
          },
          "metadata": {},
          "execution_count": 17
        }
      ]
    },
    {
      "cell_type": "code",
      "source": [
        "# Tensor\n",
        "tensor = torch.tensor([[[1,2,3],[5,4,3],[7,4,2]]])\n",
        "tensor"
      ],
      "metadata": {
        "colab": {
          "base_uri": "https://localhost:8080/"
        },
        "id": "ndIvWdCRzAlz",
        "outputId": "91b68661-b67f-4b24-febd-3c8fada9dd90"
      },
      "execution_count": null,
      "outputs": [
        {
          "output_type": "execute_result",
          "data": {
            "text/plain": [
              "tensor([[[1, 2, 3],\n",
              "         [5, 4, 3],\n",
              "         [7, 4, 2]]])"
            ]
          },
          "metadata": {},
          "execution_count": 18
        }
      ]
    },
    {
      "cell_type": "code",
      "source": [
        "tensor.shape"
      ],
      "metadata": {
        "colab": {
          "base_uri": "https://localhost:8080/"
        },
        "id": "3_uIHzyPzO-Q",
        "outputId": "fc794233-3d02-4c50-9f7e-24433197e98c"
      },
      "execution_count": null,
      "outputs": [
        {
          "output_type": "execute_result",
          "data": {
            "text/plain": [
              "torch.Size([1, 3, 3])"
            ]
          },
          "metadata": {},
          "execution_count": 19
        }
      ]
    },
    {
      "cell_type": "code",
      "source": [
        "tensor.ndim"
      ],
      "metadata": {
        "colab": {
          "base_uri": "https://localhost:8080/"
        },
        "id": "9FXyPk9bzQrw",
        "outputId": "3ba97877-f7fd-44e7-f68c-9c74a47f53ca"
      },
      "execution_count": null,
      "outputs": [
        {
          "output_type": "execute_result",
          "data": {
            "text/plain": [
              "3"
            ]
          },
          "metadata": {},
          "execution_count": 21
        }
      ]
    },
    {
      "cell_type": "markdown",
      "source": [
        "### Random Tensors\n",
        "Why Random Tensors? </br>\n",
        "Random tensors are important because the way many neural networks lear is that they start with tensors full of random numbers and ten adjust those random number to better represent the data.\n",
        "\n",
        "`Start with random numbers -> look at data -> update random numbers -> look at data -> update random number` </br>\n",
        "Torch random tensor - https://pytorch.org/docs/stable/generated/torch.rand.html"
      ],
      "metadata": {
        "id": "76nVzwSQCgHi"
      }
    },
    {
      "cell_type": "code",
      "source": [
        "# Create a random tensor of shape (3,4)\n",
        "random_tensor = torch.rand(3,4)\n",
        "random_tensor"
      ],
      "metadata": {
        "colab": {
          "base_uri": "https://localhost:8080/"
        },
        "id": "tlXN-4NNzRsI",
        "outputId": "9280c08d-02f0-47e4-e11d-4b83bbb840fa"
      },
      "execution_count": null,
      "outputs": [
        {
          "output_type": "execute_result",
          "data": {
            "text/plain": [
              "tensor([[0.1650, 0.2344, 0.9800, 0.9451],\n",
              "        [0.3281, 0.8103, 0.1361, 0.5103],\n",
              "        [0.3690, 0.6107, 0.0016, 0.0096]])"
            ]
          },
          "metadata": {},
          "execution_count": 22
        }
      ]
    },
    {
      "cell_type": "code",
      "source": [
        "random_tensor.ndim, random_tensor.shape"
      ],
      "metadata": {
        "colab": {
          "base_uri": "https://localhost:8080/"
        },
        "id": "dTeg722uDA-I",
        "outputId": "9dc50181-0144-48a6-80d6-d85048cdd1b9"
      },
      "execution_count": null,
      "outputs": [
        {
          "output_type": "execute_result",
          "data": {
            "text/plain": [
              "(2, torch.Size([3, 4]))"
            ]
          },
          "metadata": {},
          "execution_count": 24
        }
      ]
    },
    {
      "cell_type": "code",
      "source": [
        "random_tensor = torch.rand(1, 10,10)\n",
        "random_tensor"
      ],
      "metadata": {
        "colab": {
          "base_uri": "https://localhost:8080/"
        },
        "id": "wsG_1TXpDUsg",
        "outputId": "69c9b183-9a16-4f6e-cb06-931a4d5f56ce"
      },
      "execution_count": null,
      "outputs": [
        {
          "output_type": "execute_result",
          "data": {
            "text/plain": [
              "tensor([[[0.6053, 0.2221, 0.2008, 0.5338, 0.1972, 0.9160, 0.7174, 0.7864,\n",
              "          0.5037, 0.0900],\n",
              "         [0.3261, 0.2132, 0.6612, 0.0378, 0.0588, 0.7379, 0.9957, 0.5056,\n",
              "          0.4631, 0.2138],\n",
              "         [0.7402, 0.5631, 0.4147, 0.1282, 0.0503, 0.0902, 0.3461, 0.9668,\n",
              "          0.9723, 0.9537],\n",
              "         [0.0904, 0.9505, 0.9048, 0.3779, 0.4772, 0.5869, 0.9333, 0.9449,\n",
              "          0.8913, 0.8049],\n",
              "         [0.1456, 0.4096, 0.9566, 0.8709, 0.2481, 0.7416, 0.3477, 0.7044,\n",
              "          0.0442, 0.7187],\n",
              "         [0.1655, 0.9322, 0.0328, 0.2798, 0.4207, 0.9358, 0.0879, 0.5988,\n",
              "          0.2224, 0.9546],\n",
              "         [0.8636, 0.4130, 0.1341, 0.5934, 0.0553, 0.4736, 0.4862, 0.2029,\n",
              "          0.3475, 0.7099],\n",
              "         [0.5867, 0.5003, 0.9311, 0.2697, 0.8449, 0.9514, 0.7759, 0.5126,\n",
              "          0.5882, 0.4173],\n",
              "         [0.7505, 0.6383, 0.1083, 0.2440, 0.1976, 0.7442, 0.5245, 0.4725,\n",
              "          0.5005, 0.3722],\n",
              "         [0.0922, 0.9980, 0.0323, 0.6492, 0.4018, 0.1920, 0.2985, 0.7140,\n",
              "          0.1673, 0.4320]]])"
            ]
          },
          "metadata": {},
          "execution_count": 26
        }
      ]
    },
    {
      "cell_type": "code",
      "source": [
        "random_tensor = torch.rand(1,3,4)\n",
        "random_tensor.ndim, random_tensor.shape"
      ],
      "metadata": {
        "colab": {
          "base_uri": "https://localhost:8080/"
        },
        "id": "hlTPTQCKDaUw",
        "outputId": "ca8c4271-fd0f-4771-f676-f71767716fba"
      },
      "execution_count": null,
      "outputs": [
        {
          "output_type": "execute_result",
          "data": {
            "text/plain": [
              "(3, torch.Size([1, 3, 4]))"
            ]
          },
          "metadata": {},
          "execution_count": 27
        }
      ]
    },
    {
      "cell_type": "code",
      "source": [
        "# Create a random tensor with similar shape to an image tensor\n",
        "random_image_size_tensor = torch.rand(size = (244, 244, 3)) # height, width, color channels (R, G, B)\n",
        "random_image_size_tensor.shape, random_image_size_tensor.ndim # Color channel may come infront"
      ],
      "metadata": {
        "colab": {
          "base_uri": "https://localhost:8080/"
        },
        "id": "JZDnwQw2DpDQ",
        "outputId": "b98d548d-6c1b-4943-e687-a1f1ea8e5d4b"
      },
      "execution_count": null,
      "outputs": [
        {
          "output_type": "execute_result",
          "data": {
            "text/plain": [
              "(torch.Size([244, 244, 3]), 3)"
            ]
          },
          "metadata": {},
          "execution_count": 29
        }
      ]
    },
    {
      "cell_type": "code",
      "source": [
        "torch.rand(size = (3,244,244))"
      ],
      "metadata": {
        "colab": {
          "base_uri": "https://localhost:8080/"
        },
        "id": "lhnOCmUhD5R3",
        "outputId": "8766514c-a5b3-4232-d960-0c33c8cdcbc9"
      },
      "execution_count": null,
      "outputs": [
        {
          "output_type": "execute_result",
          "data": {
            "text/plain": [
              "tensor([[[0.5578, 0.5815, 0.9629,  ..., 0.1608, 0.4426, 0.1753],\n",
              "         [0.8305, 0.5221, 0.8407,  ..., 0.1605, 0.0512, 0.4875],\n",
              "         [0.8055, 0.1794, 0.4744,  ..., 0.1033, 0.0786, 0.8919],\n",
              "         ...,\n",
              "         [0.4233, 0.1972, 0.3097,  ..., 0.9500, 0.4268, 0.8070],\n",
              "         [0.7136, 0.6327, 0.1528,  ..., 0.2307, 0.5385, 0.3519],\n",
              "         [0.6049, 0.6667, 0.9452,  ..., 0.5685, 0.0165, 0.7566]],\n",
              "\n",
              "        [[0.8268, 0.2672, 0.0167,  ..., 0.6586, 0.5173, 0.4556],\n",
              "         [0.5075, 0.2489, 0.4606,  ..., 0.1792, 0.5812, 0.0247],\n",
              "         [0.1282, 0.4666, 0.8843,  ..., 0.1663, 0.3064, 0.8965],\n",
              "         ...,\n",
              "         [0.2559, 0.3047, 0.2119,  ..., 0.7168, 0.9618, 0.8268],\n",
              "         [0.1602, 0.0726, 0.9520,  ..., 0.3201, 0.6012, 0.6737],\n",
              "         [0.9114, 0.5969, 0.4287,  ..., 0.6385, 0.7764, 0.2174]],\n",
              "\n",
              "        [[0.3617, 0.0390, 0.5079,  ..., 0.9822, 0.9063, 0.0783],\n",
              "         [0.5945, 0.5572, 0.8713,  ..., 0.8910, 0.6590, 0.6022],\n",
              "         [0.6337, 0.1133, 0.2272,  ..., 0.6225, 0.5031, 0.2495],\n",
              "         ...,\n",
              "         [0.8523, 0.8504, 0.6140,  ..., 0.3288, 0.6716, 0.4866],\n",
              "         [0.3492, 0.7424, 0.9928,  ..., 0.2036, 0.0560, 0.7355],\n",
              "         [0.0341, 0.7878, 0.2260,  ..., 0.7603, 0.3748, 0.1849]]])"
            ]
          },
          "metadata": {},
          "execution_count": 30
        }
      ]
    },
    {
      "cell_type": "markdown",
      "source": [
        "### Create a tensor of all zeors"
      ],
      "metadata": {
        "id": "vKnMyAKwEiWr"
      }
    },
    {
      "cell_type": "code",
      "source": [
        "zeros = torch.zeros(size = (3,4))\n",
        "zeros"
      ],
      "metadata": {
        "colab": {
          "base_uri": "https://localhost:8080/"
        },
        "id": "g3yX4FrUELQ_",
        "outputId": "364cbd96-ca68-4efd-adb1-4d20dc39ead7"
      },
      "execution_count": null,
      "outputs": [
        {
          "output_type": "execute_result",
          "data": {
            "text/plain": [
              "tensor([[0., 0., 0., 0.],\n",
              "        [0., 0., 0., 0.],\n",
              "        [0., 0., 0., 0.]])"
            ]
          },
          "metadata": {},
          "execution_count": 31
        }
      ]
    },
    {
      "cell_type": "code",
      "source": [
        "zeros* random_tensor"
      ],
      "metadata": {
        "colab": {
          "base_uri": "https://localhost:8080/"
        },
        "id": "gAvDIyFvELNx",
        "outputId": "c86aabe3-d3d9-4399-cf57-7ce760e9ba38"
      },
      "execution_count": null,
      "outputs": [
        {
          "output_type": "execute_result",
          "data": {
            "text/plain": [
              "tensor([[[0., 0., 0., 0.],\n",
              "         [0., 0., 0., 0.],\n",
              "         [0., 0., 0., 0.]]])"
            ]
          },
          "metadata": {},
          "execution_count": 32
        }
      ]
    },
    {
      "cell_type": "code",
      "source": [
        "# Create tensor of all ones\n",
        "ones = torch.ones(size = (3,4))\n",
        "ones"
      ],
      "metadata": {
        "colab": {
          "base_uri": "https://localhost:8080/"
        },
        "id": "umWv_tL-ELLS",
        "outputId": "288c662b-016d-48d7-cdc5-4fdc3e75ade8"
      },
      "execution_count": null,
      "outputs": [
        {
          "output_type": "execute_result",
          "data": {
            "text/plain": [
              "tensor([[1., 1., 1., 1.],\n",
              "        [1., 1., 1., 1.],\n",
              "        [1., 1., 1., 1.]])"
            ]
          },
          "metadata": {},
          "execution_count": 33
        }
      ]
    },
    {
      "cell_type": "code",
      "source": [
        "ones.dtype"
      ],
      "metadata": {
        "colab": {
          "base_uri": "https://localhost:8080/"
        },
        "id": "W3JE_UCsELIl",
        "outputId": "9fd930c5-ef8b-4cd7-eefa-9aee5cc3a6ce"
      },
      "execution_count": null,
      "outputs": [
        {
          "output_type": "execute_result",
          "data": {
            "text/plain": [
              "torch.float32"
            ]
          },
          "metadata": {},
          "execution_count": 34
        }
      ]
    },
    {
      "cell_type": "markdown",
      "source": [
        "### Creating a range of tensors and tensors-like"
      ],
      "metadata": {
        "id": "rWwq9obQFIwm"
      }
    },
    {
      "cell_type": "code",
      "source": [
        "# Use torch.rand()\n",
        "torch.arange(0,10)"
      ],
      "metadata": {
        "colab": {
          "base_uri": "https://localhost:8080/"
        },
        "id": "3byZgcWqELF4",
        "outputId": "4503b20c-fa33-4bdb-db8f-40b9e24d14be"
      },
      "execution_count": null,
      "outputs": [
        {
          "output_type": "execute_result",
          "data": {
            "text/plain": [
              "tensor([0, 1, 2, 3, 4, 5, 6, 7, 8, 9])"
            ]
          },
          "metadata": {},
          "execution_count": 36
        }
      ]
    },
    {
      "cell_type": "code",
      "source": [
        "one_to_ten = torch.arange(1,11)\n",
        "one_to_ten"
      ],
      "metadata": {
        "colab": {
          "base_uri": "https://localhost:8080/"
        },
        "id": "SYDL41o9ELDG",
        "outputId": "2581b6e5-63b8-4d32-ef5a-895bf3ffa15c"
      },
      "execution_count": null,
      "outputs": [
        {
          "output_type": "execute_result",
          "data": {
            "text/plain": [
              "tensor([ 1,  2,  3,  4,  5,  6,  7,  8,  9, 10])"
            ]
          },
          "metadata": {},
          "execution_count": 38
        }
      ]
    },
    {
      "cell_type": "markdown",
      "source": [
        "# PyTorch & Numpy\n",
        "Numpy is a popular scientific Python numerical computing library. Because of this, PyTorch has functionality ot interact with it.\n",
        "* Data in Numpy, want in PyTorch tensor -> `torch.from_numpy(ndarray)`</br>\n",
        "* PyTorch tensor -> Numpy -> `torch.Tensor.numpy()`\n"
      ],
      "metadata": {
        "id": "FP-ET0goF37H"
      }
    },
    {
      "cell_type": "code",
      "source": [
        "import torch\n",
        "import numpy as np\n",
        "\n",
        "array = np.arange(1.0, 8.0)\n",
        "tensor = torch.from_numpy(array).type(torch.float32) # warning: when converting from numpy -> pytorch reflects numpy's default datatype of float64 unless specified\n",
        "array, tensor"
      ],
      "metadata": {
        "colab": {
          "base_uri": "https://localhost:8080/"
        },
        "id": "2tmC8scNEK_j",
        "outputId": "b11792e4-a3cb-4605-aa60-91a88563a061"
      },
      "execution_count": null,
      "outputs": [
        {
          "output_type": "execute_result",
          "data": {
            "text/plain": [
              "(array([1., 2., 3., 4., 5., 6., 7.]), tensor([1., 2., 3., 4., 5., 6., 7.]))"
            ]
          },
          "metadata": {},
          "execution_count": 42
        }
      ]
    },
    {
      "cell_type": "code",
      "source": [
        "# Tensor to NumPy array\n",
        "tensor = torch.ones(7)\n",
        "numpy_tensor = tensor.numpy()\n",
        "tensor, numpy_tensor"
      ],
      "metadata": {
        "colab": {
          "base_uri": "https://localhost:8080/"
        },
        "id": "5PexwLLdEK3P",
        "outputId": "8a08b6ec-272e-42dd-9041-86c03a1ef22c"
      },
      "execution_count": null,
      "outputs": [
        {
          "output_type": "execute_result",
          "data": {
            "text/plain": [
              "(tensor([1., 1., 1., 1., 1., 1., 1.]),\n",
              " array([1., 1., 1., 1., 1., 1., 1.], dtype=float32))"
            ]
          },
          "metadata": {},
          "execution_count": 44
        }
      ]
    },
    {
      "cell_type": "markdown",
      "source": [
        "### Reproducibility (trying to take random out of random)"
      ],
      "metadata": {
        "id": "NqcLWW7hILOs"
      }
    },
    {
      "cell_type": "code",
      "source": [
        "# Create two random tensors\n",
        "random_tensor_A = torch.rand(3,4)\n",
        "random_tensor_B = torch.rand(3,4)\n",
        "print(random_tensor_A)\n",
        "print(random_tensor_B)\n",
        "print(random_tensor_A == random_tensor_B)"
      ],
      "metadata": {
        "colab": {
          "base_uri": "https://localhost:8080/"
        },
        "id": "nZC2KrO5Hq0g",
        "outputId": "1daa9aa8-53c1-4618-ab18-1f5335eb2290"
      },
      "execution_count": null,
      "outputs": [
        {
          "output_type": "stream",
          "name": "stdout",
          "text": [
            "tensor([[0.3594, 0.3848, 0.3472, 0.2931],\n",
            "        [0.2679, 0.7057, 0.9675, 0.3198],\n",
            "        [0.9793, 0.8711, 0.0354, 0.5458]])\n",
            "tensor([[0.3250, 0.1927, 0.7401, 0.7841],\n",
            "        [0.7593, 0.7328, 0.4272, 0.6093],\n",
            "        [0.0355, 0.3067, 0.5437, 0.6043]])\n",
            "tensor([[False, False, False, False],\n",
            "        [False, False, False, False],\n",
            "        [False, False, False, False]])\n"
          ]
        }
      ]
    },
    {
      "cell_type": "markdown",
      "source": [
        "### Random Seed"
      ],
      "metadata": {
        "id": "Xg35SyhpIrFs"
      }
    },
    {
      "cell_type": "code",
      "source": [
        "RANDOM_SEED = 42\n",
        "\n",
        "torch.manual_seed(RANDOM_SEED)\n",
        "random_tensor_C = torch.rand(3,4)\n",
        "\n",
        "\n",
        "torch.manual_seed(RANDOM_SEED)\n",
        "random_tensor_D = torch.rand(3,4)\n",
        "\n",
        "print(random_tensor_C)\n",
        "print(random_tensor_D)\n",
        "print(random_tensor_C == random_tensor_D)"
      ],
      "metadata": {
        "colab": {
          "base_uri": "https://localhost:8080/"
        },
        "id": "1l2OLdovIhqQ",
        "outputId": "15d3f8e6-afc9-4d4b-f703-1e02e4b52406"
      },
      "execution_count": null,
      "outputs": [
        {
          "output_type": "stream",
          "name": "stdout",
          "text": [
            "tensor([[0.8823, 0.9150, 0.3829, 0.9593],\n",
            "        [0.3904, 0.6009, 0.2566, 0.7936],\n",
            "        [0.9408, 0.1332, 0.9346, 0.5936]])\n",
            "tensor([[0.8823, 0.9150, 0.3829, 0.9593],\n",
            "        [0.3904, 0.6009, 0.2566, 0.7936],\n",
            "        [0.9408, 0.1332, 0.9346, 0.5936]])\n",
            "tensor([[True, True, True, True],\n",
            "        [True, True, True, True],\n",
            "        [True, True, True, True]])\n"
          ]
        }
      ]
    },
    {
      "cell_type": "markdown",
      "source": [
        "# Three Different Ways to Access GPUs\n",
        "GPUs = faster computation on numbers, thanks to CUDA + NVIDIA + hardware + PyTorch working behind the scenes to make everything hunky dory (good).\n",
        "### 1. Getting a GPU\n",
        "1. Easies - Use Google Colab for a free GPU.\n",
        "2. Use your own GPU - takes a little bit of setup and requires the investment of purchasing a GPU.\n",
        "3. Use cloud computing - GCP, AWS, Azure etc."
      ],
      "metadata": {
        "id": "zGYp2qhUJdfW"
      }
    },
    {
      "cell_type": "markdown",
      "source": [
        "### 2. Check for GPU access with PyTorch"
      ],
      "metadata": {
        "id": "NWinX7SRK44r"
      }
    },
    {
      "cell_type": "code",
      "source": [
        "import torch"
      ],
      "metadata": {
        "id": "Bl716dlZKjer"
      },
      "execution_count": null,
      "outputs": []
    },
    {
      "cell_type": "code",
      "source": [
        "torch.cuda.is_available()"
      ],
      "metadata": {
        "colab": {
          "base_uri": "https://localhost:8080/"
        },
        "id": "gi3O3dPVK9Si",
        "outputId": "60f48a9a-8151-4124-bc35-05747d50dd99"
      },
      "execution_count": null,
      "outputs": [
        {
          "output_type": "execute_result",
          "data": {
            "text/plain": [
              "True"
            ]
          },
          "metadata": {},
          "execution_count": 2
        }
      ]
    },
    {
      "cell_type": "code",
      "source": [
        "!nvidia-smi"
      ],
      "metadata": {
        "colab": {
          "base_uri": "https://localhost:8080/"
        },
        "id": "mxepqX57LVEZ",
        "outputId": "38d22abf-81cd-4ba6-a3d0-f2d7b5e1d329"
      },
      "execution_count": null,
      "outputs": [
        {
          "output_type": "stream",
          "name": "stdout",
          "text": [
            "Tue Aug 27 23:30:40 2024       \n",
            "+---------------------------------------------------------------------------------------+\n",
            "| NVIDIA-SMI 535.104.05             Driver Version: 535.104.05   CUDA Version: 12.2     |\n",
            "|-----------------------------------------+----------------------+----------------------+\n",
            "| GPU  Name                 Persistence-M | Bus-Id        Disp.A | Volatile Uncorr. ECC |\n",
            "| Fan  Temp   Perf          Pwr:Usage/Cap |         Memory-Usage | GPU-Util  Compute M. |\n",
            "|                                         |                      |               MIG M. |\n",
            "|=========================================+======================+======================|\n",
            "|   0  Tesla T4                       Off | 00000000:00:04.0 Off |                    0 |\n",
            "| N/A   43C    P8               9W /  70W |      3MiB / 15360MiB |      0%      Default |\n",
            "|                                         |                      |                  N/A |\n",
            "+-----------------------------------------+----------------------+----------------------+\n",
            "                                                                                         \n",
            "+---------------------------------------------------------------------------------------+\n",
            "| Processes:                                                                            |\n",
            "|  GPU   GI   CI        PID   Type   Process name                            GPU Memory |\n",
            "|        ID   ID                                                             Usage      |\n",
            "|=======================================================================================|\n",
            "|  No running processes found                                                           |\n",
            "+---------------------------------------------------------------------------------------+\n"
          ]
        }
      ]
    },
    {
      "cell_type": "markdown",
      "source": [
        "### Setup device agnostic code"
      ],
      "metadata": {
        "id": "G7H7i0QmLP60"
      }
    },
    {
      "cell_type": "code",
      "source": [
        "device = \"cuda\" if torch.cuda.is_available() else \"cpu\"\n",
        "device"
      ],
      "metadata": {
        "colab": {
          "base_uri": "https://localhost:8080/",
          "height": 35
        },
        "id": "_EarcyN0LGeZ",
        "outputId": "9eca9e4a-c136-4944-a1f1-b558eae33b40"
      },
      "execution_count": null,
      "outputs": [
        {
          "output_type": "execute_result",
          "data": {
            "text/plain": [
              "'cuda'"
            ],
            "application/vnd.google.colaboratory.intrinsic+json": {
              "type": "string"
            }
          },
          "metadata": {},
          "execution_count": 5
        }
      ]
    },
    {
      "cell_type": "code",
      "source": [
        "# Count number of devices\n",
        "torch.cuda.device_count()"
      ],
      "metadata": {
        "colab": {
          "base_uri": "https://localhost:8080/"
        },
        "id": "gZH5qUY7LfvJ",
        "outputId": "2c1110a1-1413-4126-d3cd-8df3be855281"
      },
      "execution_count": null,
      "outputs": [
        {
          "output_type": "execute_result",
          "data": {
            "text/plain": [
              "1"
            ]
          },
          "metadata": {},
          "execution_count": 6
        }
      ]
    },
    {
      "cell_type": "markdown",
      "source": [
        "# Putting tensors (and models) on the GPU\n",
        "The reason we want our tensors/models on the GPU is because using a GPU reluts in faster computations"
      ],
      "metadata": {
        "id": "p_3UMQ4wMeMJ"
      }
    },
    {
      "cell_type": "code",
      "source": [
        "# Create a tensor (default on CPU)\n",
        "tensor = torch.tensor([1,2,3])\n",
        "print(tensor, tensor.device)"
      ],
      "metadata": {
        "colab": {
          "base_uri": "https://localhost:8080/"
        },
        "id": "AIAAEpTrLpDC",
        "outputId": "a1f5faa2-9f34-4fa8-e277-816a47ab7f3a"
      },
      "execution_count": null,
      "outputs": [
        {
          "output_type": "stream",
          "name": "stdout",
          "text": [
            "tensor([1, 2, 3]) cpu\n"
          ]
        }
      ]
    },
    {
      "cell_type": "code",
      "source": [
        "# Move tensor to GPU (if availabe)\n",
        "tensor_on_gpu = tensor.to(device)\n",
        "tensor_on_gpu"
      ],
      "metadata": {
        "colab": {
          "base_uri": "https://localhost:8080/"
        },
        "id": "9b6xrhXpMxHJ",
        "outputId": "00c48f9d-ab2b-4ed7-a6b5-065e480ed51f"
      },
      "execution_count": null,
      "outputs": [
        {
          "output_type": "execute_result",
          "data": {
            "text/plain": [
              "tensor([1, 2, 3], device='cuda:0')"
            ]
          },
          "metadata": {},
          "execution_count": 9
        }
      ]
    },
    {
      "cell_type": "code",
      "source": [
        "### Moving tensors back to cpu\n",
        "# If tensor is on GPU, can't transform it to NumPy\n",
        "tensor_on_gpu.numpy()"
      ],
      "metadata": {
        "colab": {
          "base_uri": "https://localhost:8080/",
          "height": 176
        },
        "id": "6oERWUL7NAdx",
        "outputId": "1a0f7eb6-1d55-4536-b94d-e1a52da770d1"
      },
      "execution_count": null,
      "outputs": [
        {
          "output_type": "error",
          "ename": "TypeError",
          "evalue": "can't convert cuda:0 device type tensor to numpy. Use Tensor.cpu() to copy the tensor to host memory first.",
          "traceback": [
            "\u001b[0;31m---------------------------------------------------------------------------\u001b[0m",
            "\u001b[0;31mTypeError\u001b[0m                                 Traceback (most recent call last)",
            "\u001b[0;32m<ipython-input-10-50db89ece853>\u001b[0m in \u001b[0;36m<cell line: 3>\u001b[0;34m()\u001b[0m\n\u001b[1;32m      1\u001b[0m \u001b[0;31m### Moving tensors back to cpu\u001b[0m\u001b[0;34m\u001b[0m\u001b[0;34m\u001b[0m\u001b[0m\n\u001b[1;32m      2\u001b[0m \u001b[0;31m# If tensor is on GPU, can't transform it to NumPy\u001b[0m\u001b[0;34m\u001b[0m\u001b[0;34m\u001b[0m\u001b[0m\n\u001b[0;32m----> 3\u001b[0;31m \u001b[0mtensor_on_gpu\u001b[0m\u001b[0;34m.\u001b[0m\u001b[0mnumpy\u001b[0m\u001b[0;34m(\u001b[0m\u001b[0;34m)\u001b[0m\u001b[0;34m\u001b[0m\u001b[0;34m\u001b[0m\u001b[0m\n\u001b[0m",
            "\u001b[0;31mTypeError\u001b[0m: can't convert cuda:0 device type tensor to numpy. Use Tensor.cpu() to copy the tensor to host memory first."
          ]
        }
      ]
    },
    {
      "cell_type": "code",
      "source": [
        "# To fix the GPU tensor with NumPy issue, we can first set it to the CPU\n",
        "tensor_back_on_cpu = tensor_on_gpu.cpu().numpy()\n",
        "tensor_back_on_cpu"
      ],
      "metadata": {
        "colab": {
          "base_uri": "https://localhost:8080/"
        },
        "id": "TEXQT2YkNmEB",
        "outputId": "2860b88f-1e5d-441f-f9fc-575c23a48ec3"
      },
      "execution_count": null,
      "outputs": [
        {
          "output_type": "execute_result",
          "data": {
            "text/plain": [
              "array([1, 2, 3])"
            ]
          },
          "metadata": {},
          "execution_count": 11
        }
      ]
    },
    {
      "cell_type": "code",
      "source": [
        "# 4: 17: 58 Hour"
      ],
      "metadata": {
        "id": "_c03QjFJN5rp"
      },
      "execution_count": null,
      "outputs": []
    }
  ]
}