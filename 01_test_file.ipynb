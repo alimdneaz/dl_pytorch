{
 "cells": [
  {
   "cell_type": "code",
   "execution_count": 1,
   "id": "7838e7b7-2b49-4a32-b753-39a34fe6f839",
   "metadata": {},
   "outputs": [],
   "source": [
    "import torch"
   ]
  },
  {
   "cell_type": "code",
   "execution_count": 2,
   "id": "1bb69455-44ee-430d-9041-0ed9ca49d9c6",
   "metadata": {},
   "outputs": [
    {
     "data": {
      "text/plain": [
       "'2.4.0'"
      ]
     },
     "execution_count": 2,
     "metadata": {},
     "output_type": "execute_result"
    }
   ],
   "source": [
    "torch.__version__"
   ]
  },
  {
   "cell_type": "code",
   "execution_count": 3,
   "id": "d47f8f5e-0bbf-4282-b347-9651396fabdb",
   "metadata": {},
   "outputs": [
    {
     "data": {
      "text/plain": [
       "'Welcome to doomsday'"
      ]
     },
     "execution_count": 3,
     "metadata": {},
     "output_type": "execute_result"
    }
   ],
   "source": [
    "\"Welcome to doomsday\""
   ]
  },
  {
   "cell_type": "markdown",
   "id": "53c10f30-7eb2-435b-88ef-df8401983179",
   "metadata": {},
   "source": [
    "<h1>PyTorch: Courses and etc</h1>\n",
    "<ol>\n",
    "    <li>learnpytor.io: For pdf format book</li>\n",
    "</ol>\n",
    "<img src = \"./images/pipeline.png\">\n",
    "____\n",
    "<h1>How to approach this course:</h1>\n",
    "<ol>\n",
    "    <li>Code along</li>\n",
    "    <li>Explore and experiment</li>\n",
    "    <li>visualize what you don't understand</li>\n",
    "    <li>Ask questions</li>\n",
    "    <li>Do the exercises</li>\n",
    "    <li>Share your work</li>\n",
    "</ol>\n",
    "\n",
    "<h1>How not to approach this course: </h1>\n",
    "<ol>\n",
    "    <li>Avoid: I <del>can't</del> learn</li>\n",
    "</ol>\n",
    "\n",
    "<h2><a hfer = \"https://github.com/mrdbourke/pytorch-deep-learning\">OriginalcodeGit</a></h2>\n",
    "<h2><a href = \"https://github.com/alimdneaz/dl_pytorch\">MyCodeGit</a></h2>\n",
    "<p>https://www.learnpytorch.io/</p>\n",
    "\n",
    "```\n",
    "import torch\n",
    "print(torch.__version__)\n",
    "```"
   ]
  }
 ],
 "metadata": {
  "kernelspec": {
   "display_name": "Python 3 (ipykernel)",
   "language": "python",
   "name": "python3"
  },
  "language_info": {
   "codemirror_mode": {
    "name": "ipython",
    "version": 3
   },
   "file_extension": ".py",
   "mimetype": "text/x-python",
   "name": "python",
   "nbconvert_exporter": "python",
   "pygments_lexer": "ipython3",
   "version": "3.10.14"
  }
 },
 "nbformat": 4,
 "nbformat_minor": 5
}
